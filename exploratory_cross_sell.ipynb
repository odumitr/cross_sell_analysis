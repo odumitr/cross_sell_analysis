{
 "cells": [
  {
   "cell_type": "code",
   "execution_count": 198,
   "metadata": {},
   "outputs": [],
   "source": [
    "import pandas as pd\n",
    "import numpy as np\n",
    "import matplotlib.pyplot as plt"
   ]
  },
  {
   "cell_type": "markdown",
   "metadata": {},
   "source": [
    "## 1. Data preprocessing & cleaning \n",
    "In this step we will take a quick look at the data and the columns in order to clean it."
   ]
  },
  {
   "cell_type": "code",
   "execution_count": 105,
   "metadata": {},
   "outputs": [],
   "source": [
    "data = pd.read_csv('take-home_exercise_data.csv', index_col=False)"
   ]
  },
  {
   "cell_type": "code",
   "execution_count": 106,
   "metadata": {},
   "outputs": [
    {
     "data": {
      "text/html": [
       "<div>\n",
       "<style scoped>\n",
       "    .dataframe tbody tr th:only-of-type {\n",
       "        vertical-align: middle;\n",
       "    }\n",
       "\n",
       "    .dataframe tbody tr th {\n",
       "        vertical-align: top;\n",
       "    }\n",
       "\n",
       "    .dataframe thead th {\n",
       "        text-align: right;\n",
       "    }\n",
       "</style>\n",
       "<table border=\"1\" class=\"dataframe\">\n",
       "  <thead>\n",
       "    <tr style=\"text-align: right;\">\n",
       "      <th></th>\n",
       "      <th>prospectid</th>\n",
       "      <th>ordernumber</th>\n",
       "      <th>ordercreatedate</th>\n",
       "      <th>regtenure</th>\n",
       "      <th>customer_type_group</th>\n",
       "      <th>dnatestactivationdayid</th>\n",
       "      <th>daystogetresult_grp</th>\n",
       "      <th>dna_visittrafficsubtype</th>\n",
       "      <th>xsell_gsa</th>\n",
       "      <th>xsell_day_exact</th>\n",
       "    </tr>\n",
       "  </thead>\n",
       "  <tbody>\n",
       "    <tr>\n",
       "      <th>0</th>\n",
       "      <td>93771712</td>\n",
       "      <td>127707306</td>\n",
       "      <td>2014-11-28</td>\n",
       "      <td>More than 120 days old</td>\n",
       "      <td>Existing Reg</td>\n",
       "      <td>2014-12-10</td>\n",
       "      <td>4 weeks</td>\n",
       "      <td>NaN</td>\n",
       "      <td>1</td>\n",
       "      <td>38.0</td>\n",
       "    </tr>\n",
       "    <tr>\n",
       "      <th>1</th>\n",
       "      <td>123112555</td>\n",
       "      <td>114401425</td>\n",
       "      <td>2013-12-05</td>\n",
       "      <td>Order prior to reg</td>\n",
       "      <td>New Reg</td>\n",
       "      <td>2014-01-13</td>\n",
       "      <td>4 weeks</td>\n",
       "      <td>NaN</td>\n",
       "      <td>1</td>\n",
       "      <td>40.0</td>\n",
       "    </tr>\n",
       "    <tr>\n",
       "      <th>2</th>\n",
       "      <td>171965960</td>\n",
       "      <td>159656050</td>\n",
       "      <td>2016-11-25</td>\n",
       "      <td>Order prior to reg</td>\n",
       "      <td>New Reg</td>\n",
       "      <td>NaN</td>\n",
       "      <td>-1</td>\n",
       "      <td>Paid Search Non Brand</td>\n",
       "      <td>0</td>\n",
       "      <td>NaN</td>\n",
       "    </tr>\n",
       "    <tr>\n",
       "      <th>3</th>\n",
       "      <td>175522116</td>\n",
       "      <td>165370285</td>\n",
       "      <td>2017-03-08</td>\n",
       "      <td>&lt;=60 days</td>\n",
       "      <td>Existing Reg</td>\n",
       "      <td>NaN</td>\n",
       "      <td>-1</td>\n",
       "      <td>Email Programs</td>\n",
       "      <td>0</td>\n",
       "      <td>NaN</td>\n",
       "    </tr>\n",
       "    <tr>\n",
       "      <th>4</th>\n",
       "      <td>149288086</td>\n",
       "      <td>132837125</td>\n",
       "      <td>2015-03-30</td>\n",
       "      <td>Order prior to reg</td>\n",
       "      <td>New Reg</td>\n",
       "      <td>2015-04-06</td>\n",
       "      <td>4 weeks</td>\n",
       "      <td>NaN</td>\n",
       "      <td>0</td>\n",
       "      <td>NaN</td>\n",
       "    </tr>\n",
       "  </tbody>\n",
       "</table>\n",
       "</div>"
      ],
      "text/plain": [
       "   prospectid  ordernumber ordercreatedate               regtenure  \\\n",
       "0    93771712    127707306      2014-11-28  More than 120 days old   \n",
       "1   123112555    114401425      2013-12-05      Order prior to reg   \n",
       "2   171965960    159656050      2016-11-25      Order prior to reg   \n",
       "3   175522116    165370285      2017-03-08               <=60 days   \n",
       "4   149288086    132837125      2015-03-30      Order prior to reg   \n",
       "\n",
       "  customer_type_group dnatestactivationdayid daystogetresult_grp  \\\n",
       "0        Existing Reg             2014-12-10             4 weeks   \n",
       "1             New Reg             2014-01-13             4 weeks   \n",
       "2             New Reg                    NaN                  -1   \n",
       "3        Existing Reg                    NaN                  -1   \n",
       "4             New Reg             2015-04-06             4 weeks   \n",
       "\n",
       "  dna_visittrafficsubtype  xsell_gsa  xsell_day_exact  \n",
       "0                     NaN          1             38.0  \n",
       "1                     NaN          1             40.0  \n",
       "2   Paid Search Non Brand          0              NaN  \n",
       "3          Email Programs          0              NaN  \n",
       "4                     NaN          0              NaN  "
      ]
     },
     "execution_count": 106,
     "metadata": {},
     "output_type": "execute_result"
    }
   ],
   "source": [
    "data.drop(columns=['Unnamed: 0'], inplace=True)\n",
    "data.head()"
   ]
  },
  {
   "cell_type": "markdown",
   "metadata": {},
   "source": [
    "As we can see from info function call on the dataframe, there are 251942 rows, 251942 distinct orders and 200000 unique customers.\n",
    "The columns that have missing values are the following: dnatestactivationdayid, dna_visittrafficsubtype.\n",
    "The xsell_day_exact field MIGHT contain missing values, but because its value can be null due to non subscription to ACOM, we cannot decide with only using the info function call.\n",
    "The xsell_day_exact field has no mssing values, as every record where xsell_gsa equals 1, the xsell_day_exact is populated."
   ]
  },
  {
   "cell_type": "code",
   "execution_count": 107,
   "metadata": {},
   "outputs": [
    {
     "name": "stdout",
     "output_type": "stream",
     "text": [
      "<class 'pandas.core.frame.DataFrame'>\n",
      "RangeIndex: 251942 entries, 0 to 251941\n",
      "Data columns (total 10 columns):\n",
      "prospectid                 251942 non-null int64\n",
      "ordernumber                251942 non-null int64\n",
      "ordercreatedate            251942 non-null object\n",
      "regtenure                  251942 non-null object\n",
      "customer_type_group        251942 non-null object\n",
      "dnatestactivationdayid     178845 non-null object\n",
      "daystogetresult_grp        251942 non-null object\n",
      "dna_visittrafficsubtype    189093 non-null object\n",
      "xsell_gsa                  251942 non-null int64\n",
      "xsell_day_exact            40579 non-null float64\n",
      "dtypes: float64(1), int64(3), object(6)\n",
      "memory usage: 19.2+ MB\n",
      "\n",
      "data shape (251942, 10)\n",
      "\n",
      "Unique orders 251942\n",
      "\n",
      "Unique customers 200000\n",
      "\n",
      "Number of missing values for xsell_day_exact 0\n"
     ]
    }
   ],
   "source": [
    "data.info()\n",
    "print('\\ndata shape '+str(data.shape))\n",
    "print('\\nUnique orders '+str(data['ordernumber'].nunique()))\n",
    "print('\\nUnique customers '+str(data['prospectid'].nunique()))\n",
    "missing_xsell_day_exact = data[data['xsell_gsa']==1 & data['xsell_day_exact'].isna()].shape[0]\n",
    "print('\\nNumber of missing values for xsell_day_exact '+str(missing_xsell_day_exact))"
   ]
  },
  {
   "cell_type": "markdown",
   "metadata": {},
   "source": [
    "Let's see the values of some of the categorical fields.\n",
    "Since some of the values in fields like regtenure and days_needed_for_DNA_result are marked as 'No Reg Date' or '-1', it means that even though the values are present, they are unknown. We will subsitute the values in all the records where such cases occur with null/nan.\n",
    "After replacement, we have 809 records with missing values for regtenure field and 101965 record with missing values for daystogetresult_grp field.\n",
    "This leaves us with a total of 450083 missing values in the entire dataset."
   ]
  },
  {
   "cell_type": "code",
   "execution_count": 108,
   "metadata": {},
   "outputs": [
    {
     "name": "stdout",
     "output_type": "stream",
     "text": [
      "prospectid 200000\n",
      "ordernumber 251942\n",
      "ordercreatedate 1767\n",
      "regtenure 9\n",
      "customer_type_group 3\n",
      "dnatestactivationdayid 1790\n",
      "daystogetresult_grp 12\n",
      "dna_visittrafficsubtype 46\n",
      "xsell_gsa 2\n",
      "xsell_day_exact 1471\n",
      "\n",
      "days passed email provided\n",
      "['More than 120 days old' 'Order prior to reg' '<=60 days' '<=120 days'\n",
      " '<=10 days' '<=30 days' '<=20 day' 'No Reg Date' '<=90 days']\n",
      "\n",
      "customer type\n",
      "['Existing Reg' 'New Reg' 'Acom Sub']\n",
      "\n",
      "days needed for DNA result \n",
      "['4 weeks' '-1' '6 weeks' '5 weeks' '3 weeks' '7 weeks' '10 weeks'\n",
      " '2 weeks' '>10weeks' '9 weeks' '8 weeks' '1 week']\n",
      "\n",
      "dna traffic visit channel\n",
      "[nan 'Paid Search Non Brand' 'Email Programs' 'email no source id'\n",
      " 'direct non-homepage' 'Email Campaigns' 'direct dna homepage'\n",
      " 'direct core homepage' 'geo-redirect' 'paid search – dna brand'\n",
      " 'organic dna brand' 'internal referrals' 'paid search – core brand'\n",
      " 'Affiliate External' 'organic core brand' 'External Paid Media'\n",
      " 'content marketing' 'organic nonbrand' 'Radio Brand/PR'\n",
      " 'Paid Search GDN ' 'social media organic' 'iOS App' 'Inbound'\n",
      " 'external referrals' 'FindAGrave' 'Direct Mail'\n",
      " 'FTM Software Integration' 'Social' 'Web Property' 'Search' 'Partners'\n",
      " 'Direct' 'Digital Video' 'Telemarketing Other (short term 8/31/05)'\n",
      " 'Windows App' 'TV Brand/PR' 'External Email' 'DNA App' 'Mobile'\n",
      " 'Android App' 'Social Media Natural ' 'Feeders' 'Display'\n",
      " 'Library/Assoc.' 'Biz Dev' 'Overlays' 'Kiosk']\n"
     ]
    }
   ],
   "source": [
    "[print(label+' '+str(data[label].nunique())) for label in data.columns]\n",
    "print('\\ndays passed email provided')\n",
    "print(data.regtenure.unique())\n",
    "print('\\ncustomer type')\n",
    "print(data.customer_type_group.unique())\n",
    "print('\\ndays needed for DNA result ')\n",
    "print(data.daystogetresult_grp.unique())\n",
    "print('\\ndna traffic visit channel')\n",
    "print(data.dna_visittrafficsubtype.unique())"
   ]
  },
  {
   "cell_type": "code",
   "execution_count": 109,
   "metadata": {},
   "outputs": [
    {
     "name": "stdout",
     "output_type": "stream",
     "text": [
      "\n",
      "days passed email provided # missing values\n",
      "809\n",
      "\n",
      "days needed for DNA result # missing values\n",
      "101965\n",
      "\n",
      "total number of missing values\n",
      "450083\n"
     ]
    }
   ],
   "source": [
    "data.replace(to_replace={'No Reg Date': np.nan, '-1': np.nan}, inplace=True)\n",
    "print('\\ndays passed email provided # missing values')\n",
    "print(data.regtenure.isna().sum())\n",
    "print('\\ndays needed for DNA result # missing values')\n",
    "print(data.daystogetresult_grp.isna().sum())\n",
    "print('\\ntotal number of missing values')\n",
    "print(data.isna().sum().sum())"
   ]
  },
  {
   "cell_type": "markdown",
   "metadata": {},
   "source": [
    "Let's work on the timestamp fields. We will convert them to timestamp data types and obtain the year, month and day for each. Also we will obtain the number of days that have passed between DNA test order and activation."
   ]
  },
  {
   "cell_type": "code",
   "execution_count": 142,
   "metadata": {
    "scrolled": true
   },
   "outputs": [],
   "source": [
    "data.ordercreatedate = pd.to_datetime(data.ordercreatedate)\n",
    "data['order_year'] = data.ordercreatedate.apply(lambda x: x.date().year)\n",
    "data['order_month'] = data.ordercreatedate.apply(lambda x: x.date().month)\n",
    "data['order_day'] = data.ordercreatedate.apply(lambda x: x.date().day)\n",
    "\n",
    "data.dnatestactivationdayid = pd.to_datetime(data.dnatestactivationdayid)\n",
    "data['activation_year'] = data.dnatestactivationdayid.apply(lambda x: x.date().year)\n",
    "data['activation_month'] = data.dnatestactivationdayid.apply(lambda x: x.date().month)\n",
    "data['activation_day'] = data.dnatestactivationdayid.apply(lambda x: x.date().day)\n",
    "data['days_order_activation'] = (data['dnatestactivationdayid'] - data['ordercreatedate'])"
   ]
  },
  {
   "cell_type": "markdown",
   "metadata": {},
   "source": [
    "## 2. Investigate cross sell rate"
   ]
  },
  {
   "cell_type": "code",
   "execution_count": 182,
   "metadata": {},
   "outputs": [],
   "source": [
    "data_ACOM = data[data['xsell_gsa']==1]\n",
    "data_ACOM_xsell = data_ACOM[data_ACOM['xsell_day_exact'] <= 120]"
   ]
  },
  {
   "cell_type": "code",
   "execution_count": 184,
   "metadata": {},
   "outputs": [
    {
     "name": "stdout",
     "output_type": "stream",
     "text": [
      "# customers that are ACOM subscribers 40579\n",
      "# unique customers that are ACOM subscribers 40579\n",
      "# customers that cross sell to subscription 31216\n",
      "# unique customers that cross sell to subscription 31216\n"
     ]
    }
   ],
   "source": [
    "print('# customers that are ACOM subscribers '+str(data[data.xsell_gsa==1].shape[0]))\n",
    "print('# unique customers that are ACOM subscribers '+str(data[data.xsell_gsa==1]['prospectid'].nunique()))\n",
    "print('# customers that cross sell to subscription '+str(data_ACOM_xsell.shape[0]))\n",
    "print('# unique customers that cross sell to subscription '+str(data_ACOM_xsell['prospectid'].nunique()))"
   ]
  },
  {
   "cell_type": "code",
   "execution_count": 185,
   "metadata": {},
   "outputs": [
    {
     "data": {
      "text/plain": [
       "prospectid                      1.297e+08\n",
       "ordernumber                   1.49988e+08\n",
       "xsell_gsa                               1\n",
       "xsell_day_exact                         6\n",
       "order_year                           2016\n",
       "order_month                             8\n",
       "order_day                              16\n",
       "activation_year                      2016\n",
       "activation_month                        6\n",
       "activation_day                         15\n",
       "days_order_activation    10 days 00:00:00\n",
       "dtype: object"
      ]
     },
     "execution_count": 185,
     "metadata": {},
     "output_type": "execute_result"
    }
   ],
   "source": [
    "data_ACOM_xsell.median(axis=0)"
   ]
  },
  {
   "cell_type": "code",
   "execution_count": 170,
   "metadata": {},
   "outputs": [
    {
     "data": {
      "text/html": [
       "<div>\n",
       "<style scoped>\n",
       "    .dataframe tbody tr th:only-of-type {\n",
       "        vertical-align: middle;\n",
       "    }\n",
       "\n",
       "    .dataframe tbody tr th {\n",
       "        vertical-align: top;\n",
       "    }\n",
       "\n",
       "    .dataframe thead th {\n",
       "        text-align: right;\n",
       "    }\n",
       "</style>\n",
       "<table border=\"1\" class=\"dataframe\">\n",
       "  <thead>\n",
       "    <tr style=\"text-align: right;\">\n",
       "      <th></th>\n",
       "      <th>prospectid</th>\n",
       "      <th>ordernumber</th>\n",
       "      <th>xsell_gsa</th>\n",
       "      <th>xsell_day_exact</th>\n",
       "      <th>order_year</th>\n",
       "      <th>order_month</th>\n",
       "      <th>order_day</th>\n",
       "      <th>activation_year</th>\n",
       "      <th>activation_month</th>\n",
       "      <th>activation_day</th>\n",
       "      <th>days_order_activation</th>\n",
       "    </tr>\n",
       "  </thead>\n",
       "  <tbody>\n",
       "    <tr>\n",
       "      <th>count</th>\n",
       "      <td>2.519420e+05</td>\n",
       "      <td>2.519420e+05</td>\n",
       "      <td>251942.000000</td>\n",
       "      <td>40579.000000</td>\n",
       "      <td>251942.000000</td>\n",
       "      <td>251942.000000</td>\n",
       "      <td>251942.000000</td>\n",
       "      <td>178845.000000</td>\n",
       "      <td>178845.000000</td>\n",
       "      <td>178845.000000</td>\n",
       "      <td>178845</td>\n",
       "    </tr>\n",
       "    <tr>\n",
       "      <th>mean</th>\n",
       "      <td>1.144561e+08</td>\n",
       "      <td>1.455821e+08</td>\n",
       "      <td>0.161065</td>\n",
       "      <td>140.674043</td>\n",
       "      <td>2015.438462</td>\n",
       "      <td>7.119583</td>\n",
       "      <td>16.471176</td>\n",
       "      <td>2015.448517</td>\n",
       "      <td>6.298840</td>\n",
       "      <td>15.680075</td>\n",
       "      <td>30 days 16:05:59.426318</td>\n",
       "    </tr>\n",
       "    <tr>\n",
       "      <th>std</th>\n",
       "      <td>5.277515e+07</td>\n",
       "      <td>1.752503e+07</td>\n",
       "      <td>0.367591</td>\n",
       "      <td>668.588251</td>\n",
       "      <td>1.419499</td>\n",
       "      <td>3.835034</td>\n",
       "      <td>8.975839</td>\n",
       "      <td>1.240606</td>\n",
       "      <td>3.819462</td>\n",
       "      <td>8.887869</td>\n",
       "      <td>307 days 01:34:40.476990</td>\n",
       "    </tr>\n",
       "    <tr>\n",
       "      <th>min</th>\n",
       "      <td>7.600000e+02</td>\n",
       "      <td>9.592366e+07</td>\n",
       "      <td>0.000000</td>\n",
       "      <td>0.000000</td>\n",
       "      <td>1900.000000</td>\n",
       "      <td>1.000000</td>\n",
       "      <td>1.000000</td>\n",
       "      <td>2012.000000</td>\n",
       "      <td>1.000000</td>\n",
       "      <td>1.000000</td>\n",
       "      <td>1 days 00:00:00</td>\n",
       "    </tr>\n",
       "    <tr>\n",
       "      <th>25%</th>\n",
       "      <td>7.189144e+07</td>\n",
       "      <td>1.356459e+08</td>\n",
       "      <td>0.000000</td>\n",
       "      <td>0.000000</td>\n",
       "      <td>2015.000000</td>\n",
       "      <td>3.000000</td>\n",
       "      <td>9.000000</td>\n",
       "      <td>2015.000000</td>\n",
       "      <td>3.000000</td>\n",
       "      <td>8.000000</td>\n",
       "      <td>7 days 00:00:00</td>\n",
       "    </tr>\n",
       "    <tr>\n",
       "      <th>50%</th>\n",
       "      <td>1.243254e+08</td>\n",
       "      <td>1.504135e+08</td>\n",
       "      <td>0.000000</td>\n",
       "      <td>22.000000</td>\n",
       "      <td>2016.000000</td>\n",
       "      <td>7.000000</td>\n",
       "      <td>17.000000</td>\n",
       "      <td>2016.000000</td>\n",
       "      <td>6.000000</td>\n",
       "      <td>16.000000</td>\n",
       "      <td>11 days 00:00:00</td>\n",
       "    </tr>\n",
       "    <tr>\n",
       "      <th>75%</th>\n",
       "      <td>1.649072e+08</td>\n",
       "      <td>1.599612e+08</td>\n",
       "      <td>0.000000</td>\n",
       "      <td>100.000000</td>\n",
       "      <td>2016.000000</td>\n",
       "      <td>11.000000</td>\n",
       "      <td>25.000000</td>\n",
       "      <td>2016.000000</td>\n",
       "      <td>10.000000</td>\n",
       "      <td>23.000000</td>\n",
       "      <td>22 days 00:00:00</td>\n",
       "    </tr>\n",
       "    <tr>\n",
       "      <th>max</th>\n",
       "      <td>1.795105e+08</td>\n",
       "      <td>1.667366e+08</td>\n",
       "      <td>1.000000</td>\n",
       "      <td>42302.000000</td>\n",
       "      <td>2017.000000</td>\n",
       "      <td>12.000000</td>\n",
       "      <td>31.000000</td>\n",
       "      <td>2017.000000</td>\n",
       "      <td>12.000000</td>\n",
       "      <td>31.000000</td>\n",
       "      <td>42462 days 00:00:00</td>\n",
       "    </tr>\n",
       "  </tbody>\n",
       "</table>\n",
       "</div>"
      ],
      "text/plain": [
       "         prospectid   ordernumber      xsell_gsa  xsell_day_exact  \\\n",
       "count  2.519420e+05  2.519420e+05  251942.000000     40579.000000   \n",
       "mean   1.144561e+08  1.455821e+08       0.161065       140.674043   \n",
       "std    5.277515e+07  1.752503e+07       0.367591       668.588251   \n",
       "min    7.600000e+02  9.592366e+07       0.000000         0.000000   \n",
       "25%    7.189144e+07  1.356459e+08       0.000000         0.000000   \n",
       "50%    1.243254e+08  1.504135e+08       0.000000        22.000000   \n",
       "75%    1.649072e+08  1.599612e+08       0.000000       100.000000   \n",
       "max    1.795105e+08  1.667366e+08       1.000000     42302.000000   \n",
       "\n",
       "          order_year    order_month      order_day  activation_year  \\\n",
       "count  251942.000000  251942.000000  251942.000000    178845.000000   \n",
       "mean     2015.438462       7.119583      16.471176      2015.448517   \n",
       "std         1.419499       3.835034       8.975839         1.240606   \n",
       "min      1900.000000       1.000000       1.000000      2012.000000   \n",
       "25%      2015.000000       3.000000       9.000000      2015.000000   \n",
       "50%      2016.000000       7.000000      17.000000      2016.000000   \n",
       "75%      2016.000000      11.000000      25.000000      2016.000000   \n",
       "max      2017.000000      12.000000      31.000000      2017.000000   \n",
       "\n",
       "       activation_month  activation_day     days_order_activation  \n",
       "count     178845.000000   178845.000000                    178845  \n",
       "mean           6.298840       15.680075   30 days 16:05:59.426318  \n",
       "std            3.819462        8.887869  307 days 01:34:40.476990  \n",
       "min            1.000000        1.000000           1 days 00:00:00  \n",
       "25%            3.000000        8.000000           7 days 00:00:00  \n",
       "50%            6.000000       16.000000          11 days 00:00:00  \n",
       "75%           10.000000       23.000000          22 days 00:00:00  \n",
       "max           12.000000       31.000000       42462 days 00:00:00  "
      ]
     },
     "execution_count": 170,
     "metadata": {},
     "output_type": "execute_result"
    }
   ],
   "source": [
    "data.describe()"
   ]
  },
  {
   "cell_type": "code",
   "execution_count": 216,
   "metadata": {},
   "outputs": [],
   "source": [
    "def group_by_feature(data, feature):\n",
    "    \n",
    "    data_grouped = data.groupby([feature]).size().reset_index(name='count')\n",
    "    data_grouped.sort_values(by='count', ascending=False, inplace=True)\n",
    "    return data_grouped"
   ]
  },
  {
   "cell_type": "code",
   "execution_count": 298,
   "metadata": {},
   "outputs": [],
   "source": [
    "def create_plot(ylabel, title, xlabels, xsizes, rotate):\n",
    "    \n",
    "    y_pos = np.arange(len(xlabels))    \n",
    "    plt.bar(y_pos, xsizes, align='center', alpha=1, color=\"blue\")\n",
    "    if rotate is True:\n",
    "        plt.bar(y_pos, xsizes, align='center', alpha=1, color=\"blue\", orientation='horizontal')\n",
    "    plt.xticks(y_pos, xlabels, rotation=0, fontsize = 10)\n",
    "    plt.ylabel(ylabel)\n",
    "    plt.title(title)\n",
    "    if rotate is True:\n",
    "        plt.rotate()\n",
    "    plt.show()"
   ]
  },
  {
   "cell_type": "code",
   "execution_count": 286,
   "metadata": {},
   "outputs": [],
   "source": [
    "groupby_xsell_days = group_by_feature(data_ACOM_xsell, 'xsell_day_exact')  \n",
    "groupby_sell_days = group_by_feature(data_ACOM, 'xsell_day_exact')  "
   ]
  },
  {
   "cell_type": "code",
   "execution_count": 287,
   "metadata": {},
   "outputs": [
    {
     "name": "stdout",
     "output_type": "stream",
     "text": [
      "    xsell_day_exact  count\n",
      "0               0.0  13699\n",
      "7               7.0    634\n",
      "6               6.0    499\n",
      "8               8.0    466\n",
      "9               9.0    419\n",
      "1               1.0    411\n",
      "5               5.0    403\n",
      "10             10.0    401\n",
      "11             11.0    347\n",
      "12             12.0    311\n",
      "   xsell_day_exact  count\n",
      "0              0.0  13699\n",
      "7              7.0    634\n",
      "6              6.0    499\n",
      "8              8.0    466\n",
      "9              9.0    419\n"
     ]
    }
   ],
   "source": [
    "print(groupby_xsell_days.head(10))\n",
    "print(groupby_sell_days.head())"
   ]
  },
  {
   "cell_type": "code",
   "execution_count": 288,
   "metadata": {},
   "outputs": [
    {
     "data": {
      "image/png": "[encoded data removed]",
      "text/plain": [
       "<Figure size 432x288 with 1 Axes>"
      ]
     },
     "metadata": {
      "needs_background": "light"
     },
     "output_type": "display_data"
    }
   ],
   "source": [
    "number_days = groupby_xsell_days['xsell_day_exact'].head(15)\n",
    "count = groupby_xsell_days['count'].head(15)\n",
    "create_plot('Subscription volume', 'Subscription volume distribution on number of days between DNA and ACOM sale', \n",
    "            number_days, count, False)"
   ]
  },
  {
   "cell_type": "code",
   "execution_count": 290,
   "metadata": {
    "scrolled": true
   },
   "outputs": [
    {
     "data": {
      "text/html": [
       "<div>\n",
       "<style scoped>\n",
       "    .dataframe tbody tr th:only-of-type {\n",
       "        vertical-align: middle;\n",
       "    }\n",
       "\n",
       "    .dataframe tbody tr th {\n",
       "        vertical-align: top;\n",
       "    }\n",
       "\n",
       "    .dataframe thead th {\n",
       "        text-align: right;\n",
       "    }\n",
       "</style>\n",
       "<table border=\"1\" class=\"dataframe\">\n",
       "  <thead>\n",
       "    <tr style=\"text-align: right;\">\n",
       "      <th></th>\n",
       "      <th>regtenure</th>\n",
       "      <th>count</th>\n",
       "    </tr>\n",
       "  </thead>\n",
       "  <tbody>\n",
       "    <tr>\n",
       "      <th>6</th>\n",
       "      <td>More than 120 days old</td>\n",
       "      <td>16957</td>\n",
       "    </tr>\n",
       "    <tr>\n",
       "      <th>7</th>\n",
       "      <td>Order prior to reg</td>\n",
       "      <td>12128</td>\n",
       "    </tr>\n",
       "    <tr>\n",
       "      <th>0</th>\n",
       "      <td>&lt;=10 days</td>\n",
       "      <td>729</td>\n",
       "    </tr>\n",
       "    <tr>\n",
       "      <th>4</th>\n",
       "      <td>&lt;=60 days</td>\n",
       "      <td>371</td>\n",
       "    </tr>\n",
       "    <tr>\n",
       "      <th>5</th>\n",
       "      <td>&lt;=90 days</td>\n",
       "      <td>293</td>\n",
       "    </tr>\n",
       "    <tr>\n",
       "      <th>2</th>\n",
       "      <td>&lt;=20 day</td>\n",
       "      <td>239</td>\n",
       "    </tr>\n",
       "    <tr>\n",
       "      <th>1</th>\n",
       "      <td>&lt;=120 days</td>\n",
       "      <td>227</td>\n",
       "    </tr>\n",
       "    <tr>\n",
       "      <th>3</th>\n",
       "      <td>&lt;=30 days</td>\n",
       "      <td>204</td>\n",
       "    </tr>\n",
       "  </tbody>\n",
       "</table>\n",
       "</div>"
      ],
      "text/plain": [
       "                regtenure  count\n",
       "6  More than 120 days old  16957\n",
       "7      Order prior to reg  12128\n",
       "0               <=10 days    729\n",
       "4               <=60 days    371\n",
       "5               <=90 days    293\n",
       "2                <=20 day    239\n",
       "1              <=120 days    227\n",
       "3               <=30 days    204"
      ]
     },
     "execution_count": 290,
     "metadata": {},
     "output_type": "execute_result"
    }
   ],
   "source": [
    "groupby_regtenure = group_by_feature(data_ACOM_xsell, 'regtenure')  \n",
    "groupby_regtenure"
   ]
  },
  {
   "cell_type": "code",
   "execution_count": 292,
   "metadata": {},
   "outputs": [
    {
     "data": {
      "image/png": "[encoded data removed]",
      "text/plain": [
       "<Figure size 432x288 with 1 Axes>"
      ]
     },
     "metadata": {
      "needs_background": "light"
     },
     "output_type": "display_data"
    }
   ],
   "source": [
    "groupby_customer_type = group_by_feature(data_ACOM_xsell, 'customer_type_group')  \n",
    "customer_type = groupby_customer_type['customer_type_group']\n",
    "count = groupby_customer_type['count']\n",
    "create_plot('Subscription volume', 'Subscription volume distribution on customer type', \n",
    "            customer_type, count, False)"
   ]
  },
  {
   "cell_type": "code",
   "execution_count": 294,
   "metadata": {},
   "outputs": [
    {
     "data": {
      "image/png": "[encoded data removed]",
      "text/plain": [
       "<Figure size 432x288 with 1 Axes>"
      ]
     },
     "metadata": {
      "needs_background": "light"
     },
     "output_type": "display_data"
    }
   ],
   "source": [
    "groupby_days_result = group_by_feature(data_ACOM_xsell, 'daystogetresult_grp')  \n",
    "days_result = groupby_days_result['daystogetresult_grp'].head(7)\n",
    "count = groupby_days_result['count'].head(7)\n",
    "create_plot('Subscription volume', 'Subscription volume distribution for # days for DNA result generation', \n",
    "            days_result, count, False)"
   ]
  },
  {
   "cell_type": "code",
   "execution_count": 280,
   "metadata": {},
   "outputs": [
    {
     "data": {
      "text/html": [
       "<div>\n",
       "<style scoped>\n",
       "    .dataframe tbody tr th:only-of-type {\n",
       "        vertical-align: middle;\n",
       "    }\n",
       "\n",
       "    .dataframe tbody tr th {\n",
       "        vertical-align: top;\n",
       "    }\n",
       "\n",
       "    .dataframe thead th {\n",
       "        text-align: right;\n",
       "    }\n",
       "</style>\n",
       "<table border=\"1\" class=\"dataframe\">\n",
       "  <thead>\n",
       "    <tr style=\"text-align: right;\">\n",
       "      <th></th>\n",
       "      <th>daystogetresult_grp</th>\n",
       "      <th>count</th>\n",
       "    </tr>\n",
       "  </thead>\n",
       "  <tbody>\n",
       "    <tr>\n",
       "      <th>5</th>\n",
       "      <td>5 weeks</td>\n",
       "      <td>5357</td>\n",
       "    </tr>\n",
       "    <tr>\n",
       "      <th>6</th>\n",
       "      <td>6 weeks</td>\n",
       "      <td>5142</td>\n",
       "    </tr>\n",
       "    <tr>\n",
       "      <th>4</th>\n",
       "      <td>4 weeks</td>\n",
       "      <td>4995</td>\n",
       "    </tr>\n",
       "    <tr>\n",
       "      <th>3</th>\n",
       "      <td>3 weeks</td>\n",
       "      <td>3779</td>\n",
       "    </tr>\n",
       "    <tr>\n",
       "      <th>7</th>\n",
       "      <td>7 weeks</td>\n",
       "      <td>1783</td>\n",
       "    </tr>\n",
       "    <tr>\n",
       "      <th>10</th>\n",
       "      <td>&gt;10weeks</td>\n",
       "      <td>597</td>\n",
       "    </tr>\n",
       "    <tr>\n",
       "      <th>8</th>\n",
       "      <td>8 weeks</td>\n",
       "      <td>591</td>\n",
       "    </tr>\n",
       "    <tr>\n",
       "      <th>2</th>\n",
       "      <td>2 weeks</td>\n",
       "      <td>568</td>\n",
       "    </tr>\n",
       "    <tr>\n",
       "      <th>9</th>\n",
       "      <td>9 weeks</td>\n",
       "      <td>561</td>\n",
       "    </tr>\n",
       "    <tr>\n",
       "      <th>1</th>\n",
       "      <td>10 weeks</td>\n",
       "      <td>560</td>\n",
       "    </tr>\n",
       "    <tr>\n",
       "      <th>0</th>\n",
       "      <td>1 week</td>\n",
       "      <td>33</td>\n",
       "    </tr>\n",
       "  </tbody>\n",
       "</table>\n",
       "</div>"
      ],
      "text/plain": [
       "   daystogetresult_grp  count\n",
       "5              5 weeks   5357\n",
       "6              6 weeks   5142\n",
       "4              4 weeks   4995\n",
       "3              3 weeks   3779\n",
       "7              7 weeks   1783\n",
       "10            >10weeks    597\n",
       "8              8 weeks    591\n",
       "2              2 weeks    568\n",
       "9              9 weeks    561\n",
       "1             10 weeks    560\n",
       "0               1 week     33"
      ]
     },
     "execution_count": 280,
     "metadata": {},
     "output_type": "execute_result"
    }
   ],
   "source": [
    "groupby_days_result"
   ]
  },
  {
   "cell_type": "code",
   "execution_count": 281,
   "metadata": {
    "scrolled": false
   },
   "outputs": [
    {
     "data": {
      "text/html": [
       "<div>\n",
       "<style scoped>\n",
       "    .dataframe tbody tr th:only-of-type {\n",
       "        vertical-align: middle;\n",
       "    }\n",
       "\n",
       "    .dataframe tbody tr th {\n",
       "        vertical-align: top;\n",
       "    }\n",
       "\n",
       "    .dataframe thead th {\n",
       "        text-align: right;\n",
       "    }\n",
       "</style>\n",
       "<table border=\"1\" class=\"dataframe\">\n",
       "  <thead>\n",
       "    <tr style=\"text-align: right;\">\n",
       "      <th></th>\n",
       "      <th>dna_visittrafficsubtype</th>\n",
       "      <th>count</th>\n",
       "    </tr>\n",
       "  </thead>\n",
       "  <tbody>\n",
       "    <tr>\n",
       "      <th>28</th>\n",
       "      <td>direct core homepage</td>\n",
       "      <td>4915</td>\n",
       "    </tr>\n",
       "    <tr>\n",
       "      <th>40</th>\n",
       "      <td>paid search – dna brand</td>\n",
       "      <td>3126</td>\n",
       "    </tr>\n",
       "    <tr>\n",
       "      <th>17</th>\n",
       "      <td>Paid Search Non Brand</td>\n",
       "      <td>2175</td>\n",
       "    </tr>\n",
       "    <tr>\n",
       "      <th>6</th>\n",
       "      <td>Email Campaigns</td>\n",
       "      <td>2042</td>\n",
       "    </tr>\n",
       "    <tr>\n",
       "      <th>39</th>\n",
       "      <td>paid search – core brand</td>\n",
       "      <td>1759</td>\n",
       "    </tr>\n",
       "    <tr>\n",
       "      <th>35</th>\n",
       "      <td>internal referrals</td>\n",
       "      <td>1569</td>\n",
       "    </tr>\n",
       "    <tr>\n",
       "      <th>37</th>\n",
       "      <td>organic dna brand</td>\n",
       "      <td>1316</td>\n",
       "    </tr>\n",
       "    <tr>\n",
       "      <th>30</th>\n",
       "      <td>direct non-homepage</td>\n",
       "      <td>1206</td>\n",
       "    </tr>\n",
       "    <tr>\n",
       "      <th>29</th>\n",
       "      <td>direct dna homepage</td>\n",
       "      <td>1014</td>\n",
       "    </tr>\n",
       "    <tr>\n",
       "      <th>36</th>\n",
       "      <td>organic core brand</td>\n",
       "      <td>997</td>\n",
       "    </tr>\n",
       "  </tbody>\n",
       "</table>\n",
       "</div>"
      ],
      "text/plain": [
       "     dna_visittrafficsubtype  count\n",
       "28      direct core homepage   4915\n",
       "40   paid search – dna brand   3126\n",
       "17     Paid Search Non Brand   2175\n",
       "6            Email Campaigns   2042\n",
       "39  paid search – core brand   1759\n",
       "35        internal referrals   1569\n",
       "37         organic dna brand   1316\n",
       "30       direct non-homepage   1206\n",
       "29       direct dna homepage   1014\n",
       "36        organic core brand    997"
      ]
     },
     "execution_count": 281,
     "metadata": {},
     "output_type": "execute_result"
    }
   ],
   "source": [
    "groupby_visit_type = group_by_feature(data_ACOM_xsell, 'dna_visittrafficsubtype')  \n",
    "groupby_visit_type.head(10)"
   ]
  },
  {
   "cell_type": "code",
   "execution_count": 282,
   "metadata": {
    "scrolled": true
   },
   "outputs": [
    {
     "data": {
      "text/html": [
       "<div>\n",
       "<style scoped>\n",
       "    .dataframe tbody tr th:only-of-type {\n",
       "        vertical-align: middle;\n",
       "    }\n",
       "\n",
       "    .dataframe tbody tr th {\n",
       "        vertical-align: top;\n",
       "    }\n",
       "\n",
       "    .dataframe thead th {\n",
       "        text-align: right;\n",
       "    }\n",
       "</style>\n",
       "<table border=\"1\" class=\"dataframe\">\n",
       "  <thead>\n",
       "    <tr style=\"text-align: right;\">\n",
       "      <th></th>\n",
       "      <th>days_order_activation</th>\n",
       "      <th>count</th>\n",
       "    </tr>\n",
       "  </thead>\n",
       "  <tbody>\n",
       "    <tr>\n",
       "      <th>6</th>\n",
       "      <td>7 days</td>\n",
       "      <td>3139</td>\n",
       "    </tr>\n",
       "    <tr>\n",
       "      <th>5</th>\n",
       "      <td>6 days</td>\n",
       "      <td>2835</td>\n",
       "    </tr>\n",
       "    <tr>\n",
       "      <th>7</th>\n",
       "      <td>8 days</td>\n",
       "      <td>2405</td>\n",
       "    </tr>\n",
       "    <tr>\n",
       "      <th>4</th>\n",
       "      <td>5 days</td>\n",
       "      <td>1952</td>\n",
       "    </tr>\n",
       "    <tr>\n",
       "      <th>8</th>\n",
       "      <td>9 days</td>\n",
       "      <td>1859</td>\n",
       "    </tr>\n",
       "    <tr>\n",
       "      <th>9</th>\n",
       "      <td>10 days</td>\n",
       "      <td>1522</td>\n",
       "    </tr>\n",
       "    <tr>\n",
       "      <th>10</th>\n",
       "      <td>11 days</td>\n",
       "      <td>1150</td>\n",
       "    </tr>\n",
       "    <tr>\n",
       "      <th>11</th>\n",
       "      <td>12 days</td>\n",
       "      <td>912</td>\n",
       "    </tr>\n",
       "    <tr>\n",
       "      <th>3</th>\n",
       "      <td>4 days</td>\n",
       "      <td>878</td>\n",
       "    </tr>\n",
       "    <tr>\n",
       "      <th>12</th>\n",
       "      <td>13 days</td>\n",
       "      <td>792</td>\n",
       "    </tr>\n",
       "    <tr>\n",
       "      <th>13</th>\n",
       "      <td>14 days</td>\n",
       "      <td>688</td>\n",
       "    </tr>\n",
       "    <tr>\n",
       "      <th>14</th>\n",
       "      <td>15 days</td>\n",
       "      <td>611</td>\n",
       "    </tr>\n",
       "    <tr>\n",
       "      <th>15</th>\n",
       "      <td>16 days</td>\n",
       "      <td>472</td>\n",
       "    </tr>\n",
       "    <tr>\n",
       "      <th>16</th>\n",
       "      <td>17 days</td>\n",
       "      <td>409</td>\n",
       "    </tr>\n",
       "    <tr>\n",
       "      <th>17</th>\n",
       "      <td>18 days</td>\n",
       "      <td>386</td>\n",
       "    </tr>\n",
       "  </tbody>\n",
       "</table>\n",
       "</div>"
      ],
      "text/plain": [
       "   days_order_activation  count\n",
       "6                 7 days   3139\n",
       "5                 6 days   2835\n",
       "7                 8 days   2405\n",
       "4                 5 days   1952\n",
       "8                 9 days   1859\n",
       "9                10 days   1522\n",
       "10               11 days   1150\n",
       "11               12 days    912\n",
       "3                 4 days    878\n",
       "12               13 days    792\n",
       "13               14 days    688\n",
       "14               15 days    611\n",
       "15               16 days    472\n",
       "16               17 days    409\n",
       "17               18 days    386"
      ]
     },
     "execution_count": 282,
     "metadata": {},
     "output_type": "execute_result"
    }
   ],
   "source": [
    "groupby_days_order_activation = group_by_feature(data_ACOM_xsell, 'days_order_activation')  \n",
    "groupby_days_order_activation.head(15)"
   ]
  },
  {
   "cell_type": "markdown",
   "metadata": {},
   "source": [
    "Let's see if subscription is influenced by date when the kit was activated (year, month, day of the month)."
   ]
  },
  {
   "cell_type": "code",
   "execution_count": 299,
   "metadata": {
    "scrolled": true
   },
   "outputs": [
    {
     "data": {
      "image/png": "[encoded data removed]",
      "text/plain": [
       "<Figure size 432x288 with 1 Axes>"
      ]
     },
     "metadata": {
      "needs_background": "light"
     },
     "output_type": "display_data"
    }
   ],
   "source": [
    "groupby_month = group_by_feature(data_ACOM_xsell, 'activation_month')  \n",
    "months = groupby_month['activation_month']\n",
    "count = groupby_month['count']\n",
    "create_plot('Kit activation volume', 'Kit activation distribution for months', \n",
    "            months, count, False)"
   ]
  },
  {
   "cell_type": "code",
   "execution_count": 300,
   "metadata": {},
   "outputs": [
    {
     "data": {
      "image/png": "[encoded data removed]",
      "text/plain": [
       "<Figure size 432x288 with 1 Axes>"
      ]
     },
     "metadata": {
      "needs_background": "light"
     },
     "output_type": "display_data"
    }
   ],
   "source": [
    "groupby_days = group_by_feature(data_ACOM_xsell, 'activation_day')  \n",
    "days = groupby_days['activation_day']\n",
    "count = groupby_days['count']\n",
    "create_plot('Kit activation volume', 'Kit activation distribution for days', \n",
    "            days, count, False)"
   ]
  },
  {
   "cell_type": "code",
   "execution_count": 209,
   "metadata": {},
   "outputs": [
    {
     "data": {
      "text/plain": [
       "Index(['prospectid', 'ordernumber', 'ordercreatedate', 'regtenure',\n",
       "       'customer_type_group', 'dnatestactivationdayid', 'daystogetresult_grp',\n",
       "       'dna_visittrafficsubtype', 'xsell_gsa', 'xsell_day_exact', 'order_year',\n",
       "       'order_month', 'order_day', 'activation_year', 'activation_month',\n",
       "       'activation_day', 'days_order_activation'],\n",
       "      dtype='object')"
      ]
     },
     "execution_count": 209,
     "metadata": {},
     "output_type": "execute_result"
    }
   ],
   "source": [
    "data.columns"
   ]
  }
 ],
 "metadata": {
  "kernelspec": {
   "display_name": "Python 3",
   "language": "python",
   "name": "python3"
  },
  "language_info": {
   "codemirror_mode": {
    "name": "ipython",
    "version": 3
   },
   "file_extension": ".py",
   "mimetype": "text/x-python",
   "name": "python",
   "nbconvert_exporter": "python",
   "pygments_lexer": "ipython3",
   "version": "3.7.2"
  }
 },
 "nbformat": 4,
 "nbformat_minor": 2
}
